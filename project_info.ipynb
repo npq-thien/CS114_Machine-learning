{
  "nbformat": 4,
  "nbformat_minor": 0,
  "metadata": {
    "colab": {
      "provenance": []
    },
    "kernelspec": {
      "name": "python3",
      "display_name": "Python 3"
    },
    "language_info": {
      "name": "python"
    }
  },
  "cells": [
    {
      "cell_type": "markdown",
      "source": [
        "Nhóm:\n",
        "- Đỗ Đức Thịnh - 20520780\n",
        "\n",
        "- Nguyễn Cao Quốc - 20520723\n",
        "\n",
        "- Nguyễn Phan Quốc Thiện - 20520775"
      ],
      "metadata": {
        "id": "PB8Fu0jJQn9C"
      }
    },
    {
      "cell_type": "markdown",
      "source": [
        "# 1.Bài toán: Phát hiện và đọc biển số xe ở Việt Nam\n",
        "\n",
        "- Input: 1 tấm ảnh có 1 biển số xe (xe máy / ô tô)\n",
        "\n",
        "- Output: 1 ảnh cắt biển số xe + các ký tự trên biển số\n",
        "\n",
        "- Ứng dụng: hệ thống nhận diện biển số trong nhà xe (khi vào sẽ đọc biển số, khi ra sẽ kiểm tra ký tự trên biển số) https://eparking.vn/nhan-dang-bien-so-xe/\n"
      ],
      "metadata": {
        "id": "OoJdhc20jDtN"
      }
    },
    {
      "cell_type": "markdown",
      "source": [
        "# 2. Dataset\n",
        "\n",
        "Data chưa gán nhãn: https://thigiacmaytinh.com/tai-nguyen-xu-ly-anh/tong-hop-data-xu-ly-anh/\n",
        "\n",
        "- Nhóm dự định đi chụp thêm data và gán nhãn\n",
        "\n",
        "- Số lượng: dự định khoảng ... ảnh. Độ đa dạng: tìm thêm biển số xe đặc biệt như của công an, cơ quan nhà nước,...\n",
        "\n",
        "- Tiền xử lý data: \n",
        "    - Xác định vị trí chứa biển số và cắt hình ảnh\n",
        "    - \n",
        "\n",
        "- Chia data: 8/1/1\n",
        " \n",
        "\n",
        "\n",
        "\n"
      ],
      "metadata": {
        "id": "wS6nd9mClXd_"
      }
    },
    {
      "cell_type": "markdown",
      "source": [
        "# 3. Mô tả đặc trưng\n",
        "\n",
        "- Feature engineering: \n",
        "\n",
        "- Data processing pipeline:\n"
      ],
      "metadata": {
        "id": "kOv-9R2LpAle"
      }
    },
    {
      "cell_type": "markdown",
      "source": [
        "# 4. Thuật toán máy học\n",
        "- Detection: YOLO, Faster-RCNN\n",
        "- OCR: CNN\n",
        "\n",
        "# 5. Cài đặt, tinh chỉnh tham số\n",
        "\n",
        "\n",
        "# 6. Đánh giá kết quả, kết luận\n",
        "- Phân tích lỗi\n",
        "\n",
        "Metric:\n",
        "- Detection: accuracy, precision, recall\n",
        "- OCR: character error rate (CER)\n"
      ],
      "metadata": {
        "id": "ikyvqCUSpUOH"
      }
    }
  ]
}